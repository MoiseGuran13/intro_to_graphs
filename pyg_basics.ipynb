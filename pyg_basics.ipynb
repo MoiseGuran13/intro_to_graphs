{
 "cells": [
  {
   "cell_type": "markdown",
   "metadata": {},
   "source": [
    "## A very basic introduction to torch geometric\n",
    "\n",
    "**Quick note: The molecule labels aren't right for visualisation, but it can be a fun challenge for you all to fix that**\n",
    "\n",
    "First check that the main libraries import right:"
   ]
  },
  {
   "cell_type": "code",
   "execution_count": 1,
   "metadata": {},
   "outputs": [],
   "source": [
    "import torch\n",
    "import torch_geometric"
   ]
  },
  {
   "cell_type": "markdown",
   "metadata": {},
   "source": [
    "Then import some functions from utils \n",
    "\n",
    "*(you are welcome to steal these)*"
   ]
  },
  {
   "cell_type": "code",
   "execution_count": 2,
   "metadata": {},
   "outputs": [],
   "source": [
    "from utils import vis_grid, vis_from_pyg"
   ]
  },
  {
   "cell_type": "markdown",
   "metadata": {},
   "source": [
    "### Load an existing dataset\n",
    "In a default way for now"
   ]
  },
  {
   "cell_type": "code",
   "execution_count": 3,
   "metadata": {},
   "outputs": [],
   "source": [
    "from torch_geometric.datasets import MoleculeNet\n",
    "\n",
    "dataset = MoleculeNet(\"datasets/\", \"BACE\")"
   ]
  },
  {
   "cell_type": "markdown",
   "metadata": {},
   "source": [
    "## What's going on with that data?\n",
    "\n",
    "As a dataset, you can index it as-normal. Graphs (`data`) can have:\n",
    "\n",
    "- Edges, `data.edge_index`, a big list of which nodes are connected, shape `2 x N edges`\n",
    "- Labels or some target, `data.y`. This varies by dataset.\n",
    "- Node features, `data.x`, an array of shape `N nodes x N node features`\n",
    "- Edge features, `data.edge_attr`, an array of shape `N edges x N edge features`\n",
    "\n",
    "**This is the sparse format of data**\n",
    "\n",
    "See [here](https://pytorch-geometric.readthedocs.io/en/2.5.3/generated/torch_geometric.data.Data.html#torch_geometric.data.Data) for more"
   ]
  },
  {
   "cell_type": "code",
   "execution_count": null,
   "metadata": {},
   "outputs": [],
   "source": [
    "print(dataset[0])"
   ]
  },
  {
   "cell_type": "markdown",
   "metadata": {},
   "source": [
    "## What do these look like?"
   ]
  },
  {
   "cell_type": "code",
   "execution_count": null,
   "metadata": {},
   "outputs": [],
   "source": [
    "vis_grid(dataset[:16], filename = \"example.png\", save = False)"
   ]
  },
  {
   "cell_type": "markdown",
   "metadata": {},
   "source": [
    "### Weird!\n",
    "We can change the filename to make it actually see molecules"
   ]
  },
  {
   "cell_type": "code",
   "execution_count": null,
   "metadata": {},
   "outputs": [],
   "source": [
    "vis_grid(dataset[:16], filename = \"ogbg-example.png\", save = False)"
   ]
  },
  {
   "cell_type": "markdown",
   "metadata": {},
   "source": [
    "### Transforms and Pre-Transforms\n",
    "\n",
    "These do something to the data as you load it, itemwise, either before or after\n",
    "\n",
    "Here we'll convert the dataset from sparse to dense\n",
    "\n",
    "'Dense' means an adjacency matrix to describe the graph instead of an edgelist.\n",
    "This collapses edge attributes into the adjacency matrix too.\n",
    "\n",
    "Why is dense useful? It lets models also consider where there *aren't* edges.\n",
    "\n",
    "Why is it not useful? Because its **much** more expensive for most graphs."
   ]
  },
  {
   "cell_type": "code",
   "execution_count": null,
   "metadata": {},
   "outputs": [],
   "source": [
    "import torch_geometric.transforms as T\n",
    "\n",
    "dataset = MoleculeNet(\"datasets/\", \"BACE\")\n",
    "print(dataset)\n",
    "print(f\"Edge index shape: {dataset[0].edge_index.shape}\")\n",
    "print(f\"Edge attr shape: {dataset[0].edge_attr.shape}\")\n",
    "print(f\"Total entries: {dataset[0].edge_index.shape[0] * dataset[0].edge_index.shape[1] + dataset[0].edge_attr.shape[0] * dataset[0].edge_attr.shape[1]}\")\n",
    "\n",
    "dataset = MoleculeNet(\"datasets/\", \"BACE\", transform=T.ToDense())\n",
    "print(dataset)\n",
    "print(f\"Adj matrix shape: {dataset[0].adj.shape}\")\n",
    "print(f\"Total entries: {dataset[0].adj.shape[0] * dataset[0].adj.shape[1] * dataset[0].adj.shape[2]}\")\n",
    "\n"
   ]
  },
  {
   "cell_type": "markdown",
   "metadata": {},
   "source": [
    "## Custom transform\n",
    "\n",
    "Here's a custom transform that removes node and edge features"
   ]
  },
  {
   "cell_type": "code",
   "execution_count": null,
   "metadata": {},
   "outputs": [],
   "source": [
    "class RemoveFeatures(T.BaseTransform):\n",
    "    r\"\"\"Distance to nodes\n",
    "    \"\"\"\n",
    "\n",
    "    def __init__(self):\n",
    "        pass\n",
    "\n",
    "    def __call__(self, data):\n",
    "        data.x = None\n",
    "        data.edge_attr = None\n",
    "\n",
    "        return data\n",
    "dataset = MoleculeNet(\"datasets/\", \"BACE\", transform=RemoveFeatures())\n",
    "print(dataset[0])\n",
    "vis_grid(dataset[:16], filename = \"example.png\", save = False)"
   ]
  },
  {
   "cell_type": "markdown",
   "metadata": {},
   "source": [
    "## Exercise\n",
    "*sorry*\n",
    "\n",
    "1. Write a transform that adds the degree of each node as a new feature\n",
    "2. Write the same transform, but it keeps the original features, and adds degree as a new one"
   ]
  },
  {
   "cell_type": "code",
   "execution_count": 9,
   "metadata": {},
   "outputs": [],
   "source": [
    "dataset = MoleculeNet(\"datasets/\", \"BACE\", transform=RemoveFeatures())\n",
    "# Your code here"
   ]
  },
  {
   "cell_type": "markdown",
   "metadata": {},
   "source": [
    "There are a lot of complicated things on graph data - but they mostly do things to features or structure separately."
   ]
  },
  {
   "cell_type": "markdown",
   "metadata": {},
   "source": [
    "## PyG batches\n",
    "\n",
    "Batches for pytorch-geometric - and most graph libraries - treat each batch as one big graph.\n",
    "\n",
    "This batch object has attribute `.batch`, like `batch.x` or `batch.edge_index`, that indexes which nodes belong to which batch."
   ]
  },
  {
   "cell_type": "code",
   "execution_count": null,
   "metadata": {},
   "outputs": [],
   "source": [
    "from torch_geometric.loader import DataLoader\n",
    "\n",
    "dataset = MoleculeNet(\"datasets/\", \"BACE\")\n",
    "loader = DataLoader(dataset, batch_size = 8)\n",
    "print(loader)\n",
    "for batch in loader:\n",
    "    print(batch)\n",
    "    vis_from_pyg(batch, filename=\"ogbg.png\", save=False)\n",
    "    break"
   ]
  },
  {
   "cell_type": "code",
   "execution_count": null,
   "metadata": {},
   "outputs": [],
   "source": []
  }
 ],
 "metadata": {
  "kernelspec": {
   "display_name": "intro_pyg",
   "language": "python",
   "name": "python3"
  },
  "language_info": {
   "codemirror_mode": {
    "name": "ipython",
    "version": 3
   },
   "file_extension": ".py",
   "mimetype": "text/x-python",
   "name": "python",
   "nbconvert_exporter": "python",
   "pygments_lexer": "ipython3",
   "version": "3.11.8"
  }
 },
 "nbformat": 4,
 "nbformat_minor": 2
}
